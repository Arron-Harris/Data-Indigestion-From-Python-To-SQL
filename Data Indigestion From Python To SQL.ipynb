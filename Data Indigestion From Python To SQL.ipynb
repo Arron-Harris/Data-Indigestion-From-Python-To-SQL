{
 "cells": [
  {
   "cell_type": "code",
   "execution_count": 6,
   "id": "8f8bc128",
   "metadata": {},
   "outputs": [],
   "source": [
    "import pandas as pd\n",
    "import pypyodbc as odbc"
   ]
  },
  {
   "cell_type": "code",
   "execution_count": 3,
   "id": "afdce23a",
   "metadata": {},
   "outputs": [],
   "source": [
    "AWR = pd.read_csv('Amazon Watch Reviews.csv')"
   ]
  },
  {
   "cell_type": "code",
   "execution_count": 4,
   "id": "fc23af86",
   "metadata": {},
   "outputs": [
    {
     "data": {
      "text/html": [
       "<div>\n",
       "<style scoped>\n",
       "    .dataframe tbody tr th:only-of-type {\n",
       "        vertical-align: middle;\n",
       "    }\n",
       "\n",
       "    .dataframe tbody tr th {\n",
       "        vertical-align: top;\n",
       "    }\n",
       "\n",
       "    .dataframe thead th {\n",
       "        text-align: right;\n",
       "    }\n",
       "</style>\n",
       "<table border=\"1\" class=\"dataframe\">\n",
       "  <thead>\n",
       "    <tr style=\"text-align: right;\">\n",
       "      <th></th>\n",
       "      <th>name</th>\n",
       "      <th>rating</th>\n",
       "      <th>title</th>\n",
       "      <th>review</th>\n",
       "    </tr>\n",
       "  </thead>\n",
       "  <tbody>\n",
       "    <tr>\n",
       "      <th>0</th>\n",
       "      <td>Rajendra Khetade</td>\n",
       "      <td>3.0 out of 5 stars</td>\n",
       "      <td>It's High price... Give additional features of...</td>\n",
       "      <td>Bettry not perform well.</td>\n",
       "    </tr>\n",
       "    <tr>\n",
       "      <th>1</th>\n",
       "      <td>Atharva Bhosale</td>\n",
       "      <td>5.0 out of 5 stars</td>\n",
       "      <td>Must Buy</td>\n",
       "      <td>Value for money 😃😃</td>\n",
       "    </tr>\n",
       "    <tr>\n",
       "      <th>2</th>\n",
       "      <td>Gaurav tripathi</td>\n",
       "      <td>5.0 out of 5 stars</td>\n",
       "      <td>Excellent watch ....features are amazing</td>\n",
       "      <td>Excellent watch ....features are amazing</td>\n",
       "    </tr>\n",
       "    <tr>\n",
       "      <th>3</th>\n",
       "      <td>Poulami S.</td>\n",
       "      <td>3.0 out of 5 stars</td>\n",
       "      <td>Its a not bad thing...</td>\n",
       "      <td>Watch works well. Compered it with my amazefit...</td>\n",
       "    </tr>\n",
       "    <tr>\n",
       "      <th>4</th>\n",
       "      <td>Amit Tikam</td>\n",
       "      <td>5.0 out of 5 stars</td>\n",
       "      <td>Zakkas watch👌🏻</td>\n",
       "      <td>Good watch I got it during sell days for Rs. 3...</td>\n",
       "    </tr>\n",
       "  </tbody>\n",
       "</table>\n",
       "</div>"
      ],
      "text/plain": [
       "               name              rating  \\\n",
       "0  Rajendra Khetade  3.0 out of 5 stars   \n",
       "1   Atharva Bhosale  5.0 out of 5 stars   \n",
       "2   Gaurav tripathi  5.0 out of 5 stars   \n",
       "3        Poulami S.  3.0 out of 5 stars   \n",
       "4       Amit Tikam   5.0 out of 5 stars   \n",
       "\n",
       "                                               title  \\\n",
       "0  It's High price... Give additional features of...   \n",
       "1                                           Must Buy   \n",
       "2           Excellent watch ....features are amazing   \n",
       "3                             Its a not bad thing...   \n",
       "4                                     Zakkas watch👌🏻   \n",
       "\n",
       "                                              review  \n",
       "0                           Bettry not perform well.  \n",
       "1                                 Value for money 😃😃  \n",
       "2           Excellent watch ....features are amazing  \n",
       "3  Watch works well. Compered it with my amazefit...  \n",
       "4  Good watch I got it during sell days for Rs. 3...  "
      ]
     },
     "execution_count": 4,
     "metadata": {},
     "output_type": "execute_result"
    }
   ],
   "source": [
    "AWR.head()"
   ]
  },
  {
   "cell_type": "code",
   "execution_count": 5,
   "id": "088f9325",
   "metadata": {},
   "outputs": [
    {
     "name": "stdout",
     "output_type": "stream",
     "text": [
      "<class 'pandas.core.frame.DataFrame'>\n",
      "RangeIndex: 82 entries, 0 to 81\n",
      "Data columns (total 4 columns):\n",
      " #   Column  Non-Null Count  Dtype \n",
      "---  ------  --------------  ----- \n",
      " 0   name    82 non-null     object\n",
      " 1   rating  77 non-null     object\n",
      " 2   title   82 non-null     object\n",
      " 3   review  80 non-null     object\n",
      "dtypes: object(4)\n",
      "memory usage: 2.7+ KB\n"
     ]
    }
   ],
   "source": [
    "AWR.info()"
   ]
  },
  {
   "cell_type": "code",
   "execution_count": 7,
   "id": "3e45a80e",
   "metadata": {},
   "outputs": [
    {
     "name": "stdout",
     "output_type": "stream",
     "text": [
      "<pypyodbc.Connection object at 0x00000233DD612E48>\n"
     ]
    }
   ],
   "source": [
    "DRIVER_NAME = 'SQL SERVER'\n",
    "SERVER_NAME = 'LAPTOP-KBUVIT6T'\n",
    "DATABASE_NAME = 'python_database'\n",
    "connection_string = f\"\"\"\n",
    "    DRIVER={{{DRIVER_NAME}}};\n",
    "    SERVER={SERVER_NAME};\n",
    "    DATABASE={DATABASE_NAME};\n",
    "    Trust_Connection=yes;\n",
    "    \n",
    "    \"\"\"\n",
    "\n",
    "\n",
    "conn = odbc.connect(connection_string)\n",
    "print(conn)"
   ]
  },
  {
   "cell_type": "code",
   "execution_count": 10,
   "id": "58a93821",
   "metadata": {},
   "outputs": [],
   "source": [
    "#Create connection curser\n",
    "cursor = conn.cursor()"
   ]
  },
  {
   "cell_type": "code",
   "execution_count": 14,
   "id": "a8f21e62",
   "metadata": {},
   "outputs": [
    {
     "data": {
      "text/html": [
       "<div>\n",
       "<style scoped>\n",
       "    .dataframe tbody tr th:only-of-type {\n",
       "        vertical-align: middle;\n",
       "    }\n",
       "\n",
       "    .dataframe tbody tr th {\n",
       "        vertical-align: top;\n",
       "    }\n",
       "\n",
       "    .dataframe thead th {\n",
       "        text-align: right;\n",
       "    }\n",
       "</style>\n",
       "<table border=\"1\" class=\"dataframe\">\n",
       "  <thead>\n",
       "    <tr style=\"text-align: right;\">\n",
       "      <th></th>\n",
       "      <th>name</th>\n",
       "      <th>rating</th>\n",
       "      <th>title</th>\n",
       "      <th>review</th>\n",
       "    </tr>\n",
       "  </thead>\n",
       "  <tbody>\n",
       "    <tr>\n",
       "      <th>0</th>\n",
       "      <td>Rajendra Khetade</td>\n",
       "      <td>3.0 out of 5 stars</td>\n",
       "      <td>It's High price... Give additional features of...</td>\n",
       "      <td>Bettry not perform well.</td>\n",
       "    </tr>\n",
       "    <tr>\n",
       "      <th>1</th>\n",
       "      <td>Atharva Bhosale</td>\n",
       "      <td>5.0 out of 5 stars</td>\n",
       "      <td>Must Buy</td>\n",
       "      <td>Value for money 😃😃</td>\n",
       "    </tr>\n",
       "    <tr>\n",
       "      <th>2</th>\n",
       "      <td>Gaurav tripathi</td>\n",
       "      <td>5.0 out of 5 stars</td>\n",
       "      <td>Excellent watch ....features are amazing</td>\n",
       "      <td>Excellent watch ....features are amazing</td>\n",
       "    </tr>\n",
       "    <tr>\n",
       "      <th>3</th>\n",
       "      <td>Poulami S.</td>\n",
       "      <td>3.0 out of 5 stars</td>\n",
       "      <td>Its a not bad thing...</td>\n",
       "      <td>Watch works well. Compered it with my amazefit...</td>\n",
       "    </tr>\n",
       "    <tr>\n",
       "      <th>4</th>\n",
       "      <td>Amit Tikam</td>\n",
       "      <td>5.0 out of 5 stars</td>\n",
       "      <td>Zakkas watch👌🏻</td>\n",
       "      <td>Good watch I got it during sell days for Rs. 3...</td>\n",
       "    </tr>\n",
       "    <tr>\n",
       "      <th>5</th>\n",
       "      <td>jenith s.</td>\n",
       "      <td>5.0 out of 5 stars</td>\n",
       "      <td>Value for money!</td>\n",
       "      <td>Its been one month since i am using this produ...</td>\n",
       "    </tr>\n",
       "    <tr>\n",
       "      <th>6</th>\n",
       "      <td>Manu The shopper!</td>\n",
       "      <td>3.0 out of 5 stars</td>\n",
       "      <td>Decent watch for starters</td>\n",
       "      <td>Watch is good if you are looking for getting i...</td>\n",
       "    </tr>\n",
       "    <tr>\n",
       "      <th>7</th>\n",
       "      <td>PavanV</td>\n",
       "      <td>4.0 out of 5 stars</td>\n",
       "      <td>Very good one for the mentioned features. Supe...</td>\n",
       "      <td>Writing this on day 1 of usage. Seems to be a ...</td>\n",
       "    </tr>\n",
       "    <tr>\n",
       "      <th>8</th>\n",
       "      <td>jenny</td>\n",
       "      <td>5.0 out of 5 stars</td>\n",
       "      <td>Best in the range</td>\n",
       "      <td>One of the best watch to buy in this range wit...</td>\n",
       "    </tr>\n",
       "    <tr>\n",
       "      <th>9</th>\n",
       "      <td>ratna s.</td>\n",
       "      <td>3.0 out of 5 stars</td>\n",
       "      <td>Better items are available at this price</td>\n",
       "      <td>Looks cool,many features, but most of them are...</td>\n",
       "    </tr>\n",
       "  </tbody>\n",
       "</table>\n",
       "</div>"
      ],
      "text/plain": [
       "                name              rating  \\\n",
       "0   Rajendra Khetade  3.0 out of 5 stars   \n",
       "1    Atharva Bhosale  5.0 out of 5 stars   \n",
       "2    Gaurav tripathi  5.0 out of 5 stars   \n",
       "3         Poulami S.  3.0 out of 5 stars   \n",
       "4        Amit Tikam   5.0 out of 5 stars   \n",
       "5          jenith s.  5.0 out of 5 stars   \n",
       "6  Manu The shopper!  3.0 out of 5 stars   \n",
       "7             PavanV  4.0 out of 5 stars   \n",
       "8              jenny  5.0 out of 5 stars   \n",
       "9           ratna s.  3.0 out of 5 stars   \n",
       "\n",
       "                                               title  \\\n",
       "0  It's High price... Give additional features of...   \n",
       "1                                           Must Buy   \n",
       "2           Excellent watch ....features are amazing   \n",
       "3                             Its a not bad thing...   \n",
       "4                                     Zakkas watch👌🏻   \n",
       "5                                   Value for money!   \n",
       "6                          Decent watch for starters   \n",
       "7  Very good one for the mentioned features. Supe...   \n",
       "8                                  Best in the range   \n",
       "9           Better items are available at this price   \n",
       "\n",
       "                                              review  \n",
       "0                           Bettry not perform well.  \n",
       "1                                 Value for money 😃😃  \n",
       "2           Excellent watch ....features are amazing  \n",
       "3  Watch works well. Compered it with my amazefit...  \n",
       "4  Good watch I got it during sell days for Rs. 3...  \n",
       "5  Its been one month since i am using this produ...  \n",
       "6  Watch is good if you are looking for getting i...  \n",
       "7  Writing this on day 1 of usage. Seems to be a ...  \n",
       "8  One of the best watch to buy in this range wit...  \n",
       "9  Looks cool,many features, but most of them are...  "
      ]
     },
     "execution_count": 14,
     "metadata": {},
     "output_type": "execute_result"
    }
   ],
   "source": [
    "AWR.head(10)"
   ]
  },
  {
   "cell_type": "code",
   "execution_count": 11,
   "id": "bd166f1c",
   "metadata": {},
   "outputs": [
    {
     "name": "stdout",
     "output_type": "stream",
     "text": [
      "<class 'pandas.core.frame.DataFrame'>\n",
      "RangeIndex: 82 entries, 0 to 81\n",
      "Data columns (total 4 columns):\n",
      " #   Column  Non-Null Count  Dtype \n",
      "---  ------  --------------  ----- \n",
      " 0   name    82 non-null     object\n",
      " 1   rating  77 non-null     object\n",
      " 2   title   82 non-null     object\n",
      " 3   review  80 non-null     object\n",
      "dtypes: object(4)\n",
      "memory usage: 2.7+ KB\n"
     ]
    }
   ],
   "source": [
    "AWR.info()"
   ]
  },
  {
   "cell_type": "code",
   "execution_count": 17,
   "id": "6056d590",
   "metadata": {},
   "outputs": [
    {
     "data": {
      "text/plain": [
       "<pypyodbc.Cursor at 0x233dd62c5c8>"
      ]
     },
     "execution_count": 17,
     "metadata": {},
     "output_type": "execute_result"
    }
   ],
   "source": [
    "cursor.execute('create table.AWR(name varchar(20),rating varchar(30),title varchar(100),review varchar(1000))')"
   ]
  },
  {
   "cell_type": "code",
   "execution_count": 38,
   "id": "c16cf0ab",
   "metadata": {},
   "outputs": [],
   "source": [
    "for row in AWR.itertuples():\n",
    "    cursor.execute('insert into AWR values(:name,:rating,:title,:review)',(row.name,row.rating,row.title,row.review))\n",
    "    conn.commit()"
   ]
  },
  {
   "cell_type": "code",
   "execution_count": null,
   "id": "a9b9bbaf",
   "metadata": {},
   "outputs": [],
   "source": []
  }
 ],
 "metadata": {
  "kernelspec": {
   "display_name": "Python 3 (ipykernel)",
   "language": "python",
   "name": "python3"
  },
  "language_info": {
   "codemirror_mode": {
    "name": "ipython",
    "version": 3
   },
   "file_extension": ".py",
   "mimetype": "text/x-python",
   "name": "python",
   "nbconvert_exporter": "python",
   "pygments_lexer": "ipython3",
   "version": "3.7.6"
  }
 },
 "nbformat": 4,
 "nbformat_minor": 5
}
